{
 "cells": [
  {
   "cell_type": "code",
   "execution_count": 6,
   "id": "5d2518f9",
   "metadata": {},
   "outputs": [],
   "source": [
    "## Basic analysis dataset in Python for multipurpose use\n",
    "# Import required packages\n",
    "import pandas as pd \n",
    "import numpy as np\n",
    "import matplotlib.pyplot as plt\n",
    "import requests"
   ]
  },
  {
   "cell_type": "code",
   "execution_count": 1,
   "id": "fb3f59dc",
   "metadata": {},
   "outputs": [
    {
     "ename": "NameError",
     "evalue": "name 'pd' is not defined",
     "output_type": "error",
     "traceback": [
      "\u001b[1;31m---------------------------------------------------------------------------\u001b[0m",
      "\u001b[1;31mNameError\u001b[0m                                 Traceback (most recent call last)",
      "Cell \u001b[1;32mIn[1], line 2\u001b[0m\n\u001b[0;32m      1\u001b[0m \u001b[38;5;66;03m# Download CPI basket data from ONS website\u001b[39;00m\n\u001b[1;32m----> 2\u001b[0m data \u001b[38;5;241m=\u001b[39m pd\u001b[38;5;241m.\u001b[39mread_csv(\u001b[38;5;124m\"\u001b[39m\u001b[38;5;124mdataset here\u001b[39m\u001b[38;5;124m\"\u001b[39m)\n\u001b[0;32m      4\u001b[0m \u001b[38;5;66;03m# Show head of data\u001b[39;00m\n\u001b[0;32m      5\u001b[0m data\u001b[38;5;241m.\u001b[39mhead\n",
      "\u001b[1;31mNameError\u001b[0m: name 'pd' is not defined"
     ]
    }
   ],
   "source": [
    "# Download CPI basket data from ONS website\n",
    "data = pd.read_csv(\"dataset here\")\n",
    "\n",
    "# Show head of data\n",
    "data.head"
   ]
  },
  {
   "cell_type": "code",
   "execution_count": null,
   "id": "ccd5763f",
   "metadata": {},
   "outputs": [],
   "source": [
    "# Look at some basic information about the data \n",
    "data.info()\n",
    "\n",
    "# Check for missing values in the dataset\n",
    "data.isnull().sum()\n",
    "\n",
    "# Get dscriptive statistics for numerical variables \n",
    "data.describe()\n",
    "\n",
    "# Analyse categorical variables \n",
    "data[\"category\"].value_counts()\n",
    "\n",
    "#Look at relationships between variables (e.g., spending vs age)\n",
    "data.plot.scatter(x = \"age\", y = \"spend\")"
   ]
  },
  {
   "cell_type": "code",
   "execution_count": null,
   "id": "012c8a86",
   "metadata": {},
   "outputs": [],
   "source": [
    "## Perform some more specific analysis \n",
    "avg_spend_household = data[\"spend\"].mean()\n",
    "# Print the average spend per household figure\n",
    "print(f\"Average spending per household: £{avg_spend_household:.2f}\")"
   ]
  },
  {
   "cell_type": "code",
   "execution_count": null,
   "id": "87ed4c2a",
   "metadata": {},
   "outputs": [],
   "source": [
    "## Spending by category \n",
    "# Create a dataset highlighting the category by sum of spending\n",
    "spend_by_category = data.groupby(\"category\")[\"spend\"].sum()\n",
    "\n",
    "#Visualise the new dataset as a bar plot\n",
    "spend_by_category.plot.bar()"
   ]
  },
  {
   "cell_type": "code",
   "execution_count": null,
   "id": "c1c59846",
   "metadata": {},
   "outputs": [],
   "source": [
    "# function for looking at the spending trends over time\n",
    "if \"date\" in data.columns: \n",
    "    data[\"date\"] = pd.to_datetime(data[\"date\"])\n",
    "    data.set_index(\"date\", inplace=True)\n",
    "    spend_over_time = data[\"spend\"].resample(\"M\").mean()\n",
    "    spend_over_time.plot()"
   ]
  },
  {
   "cell_type": "code",
   "execution_count": null,
   "id": "a4e10b55",
   "metadata": {},
   "outputs": [],
   "source": [
    "## You can now further analyse the data by doing the following. \n",
    "# Grouping by additional factors like region, income level and/or household size\n",
    "# Filtering the data based on specific criteria\n",
    "# Creating new variables or derived features\n",
    "# Using statistical tests to compare groups or assess relationships"
   ]
  }
 ],
 "metadata": {
  "kernelspec": {
   "display_name": "Python 3 (ipykernel)",
   "language": "python",
   "name": "python3"
  },
  "language_info": {
   "codemirror_mode": {
    "name": "ipython",
    "version": 3
   },
   "file_extension": ".py",
   "mimetype": "text/x-python",
   "name": "python",
   "nbconvert_exporter": "python",
   "pygments_lexer": "ipython3",
   "version": "3.11.5"
  }
 },
 "nbformat": 4,
 "nbformat_minor": 5
}
